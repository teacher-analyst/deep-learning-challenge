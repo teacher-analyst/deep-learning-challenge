{
 "cells": [
  {
   "cell_type": "markdown",
   "metadata": {},
   "source": [
    "## Preprocessing"
   ]
  },
  {
   "cell_type": "code",
   "execution_count": 1,
   "metadata": {},
   "outputs": [
    {
     "data": {
      "text/html": [
       "<div>\n",
       "<style scoped>\n",
       "    .dataframe tbody tr th:only-of-type {\n",
       "        vertical-align: middle;\n",
       "    }\n",
       "\n",
       "    .dataframe tbody tr th {\n",
       "        vertical-align: top;\n",
       "    }\n",
       "\n",
       "    .dataframe thead th {\n",
       "        text-align: right;\n",
       "    }\n",
       "</style>\n",
       "<table border=\"1\" class=\"dataframe\">\n",
       "  <thead>\n",
       "    <tr style=\"text-align: right;\">\n",
       "      <th></th>\n",
       "      <th>EIN</th>\n",
       "      <th>NAME</th>\n",
       "      <th>APPLICATION_TYPE</th>\n",
       "      <th>AFFILIATION</th>\n",
       "      <th>CLASSIFICATION</th>\n",
       "      <th>USE_CASE</th>\n",
       "      <th>ORGANIZATION</th>\n",
       "      <th>STATUS</th>\n",
       "      <th>INCOME_AMT</th>\n",
       "      <th>SPECIAL_CONSIDERATIONS</th>\n",
       "      <th>ASK_AMT</th>\n",
       "      <th>IS_SUCCESSFUL</th>\n",
       "    </tr>\n",
       "  </thead>\n",
       "  <tbody>\n",
       "    <tr>\n",
       "      <th>0</th>\n",
       "      <td>10520599</td>\n",
       "      <td>BLUE KNIGHTS MOTORCYCLE CLUB</td>\n",
       "      <td>T10</td>\n",
       "      <td>Independent</td>\n",
       "      <td>C1000</td>\n",
       "      <td>ProductDev</td>\n",
       "      <td>Association</td>\n",
       "      <td>1</td>\n",
       "      <td>0</td>\n",
       "      <td>N</td>\n",
       "      <td>5000</td>\n",
       "      <td>1</td>\n",
       "    </tr>\n",
       "    <tr>\n",
       "      <th>1</th>\n",
       "      <td>10531628</td>\n",
       "      <td>AMERICAN CHESAPEAKE CLUB CHARITABLE TR</td>\n",
       "      <td>T3</td>\n",
       "      <td>Independent</td>\n",
       "      <td>C2000</td>\n",
       "      <td>Preservation</td>\n",
       "      <td>Co-operative</td>\n",
       "      <td>1</td>\n",
       "      <td>1-9999</td>\n",
       "      <td>N</td>\n",
       "      <td>108590</td>\n",
       "      <td>1</td>\n",
       "    </tr>\n",
       "    <tr>\n",
       "      <th>2</th>\n",
       "      <td>10547893</td>\n",
       "      <td>ST CLOUD PROFESSIONAL FIREFIGHTERS</td>\n",
       "      <td>T5</td>\n",
       "      <td>CompanySponsored</td>\n",
       "      <td>C3000</td>\n",
       "      <td>ProductDev</td>\n",
       "      <td>Association</td>\n",
       "      <td>1</td>\n",
       "      <td>0</td>\n",
       "      <td>N</td>\n",
       "      <td>5000</td>\n",
       "      <td>0</td>\n",
       "    </tr>\n",
       "    <tr>\n",
       "      <th>3</th>\n",
       "      <td>10553066</td>\n",
       "      <td>SOUTHSIDE ATHLETIC ASSOCIATION</td>\n",
       "      <td>T3</td>\n",
       "      <td>CompanySponsored</td>\n",
       "      <td>C2000</td>\n",
       "      <td>Preservation</td>\n",
       "      <td>Trust</td>\n",
       "      <td>1</td>\n",
       "      <td>10000-24999</td>\n",
       "      <td>N</td>\n",
       "      <td>6692</td>\n",
       "      <td>1</td>\n",
       "    </tr>\n",
       "    <tr>\n",
       "      <th>4</th>\n",
       "      <td>10556103</td>\n",
       "      <td>GENETIC RESEARCH INSTITUTE OF THE DESERT</td>\n",
       "      <td>T3</td>\n",
       "      <td>Independent</td>\n",
       "      <td>C1000</td>\n",
       "      <td>Heathcare</td>\n",
       "      <td>Trust</td>\n",
       "      <td>1</td>\n",
       "      <td>100000-499999</td>\n",
       "      <td>N</td>\n",
       "      <td>142590</td>\n",
       "      <td>1</td>\n",
       "    </tr>\n",
       "  </tbody>\n",
       "</table>\n",
       "</div>"
      ],
      "text/plain": [
       "        EIN                                      NAME APPLICATION_TYPE  \\\n",
       "0  10520599              BLUE KNIGHTS MOTORCYCLE CLUB              T10   \n",
       "1  10531628    AMERICAN CHESAPEAKE CLUB CHARITABLE TR               T3   \n",
       "2  10547893        ST CLOUD PROFESSIONAL FIREFIGHTERS               T5   \n",
       "3  10553066            SOUTHSIDE ATHLETIC ASSOCIATION               T3   \n",
       "4  10556103  GENETIC RESEARCH INSTITUTE OF THE DESERT               T3   \n",
       "\n",
       "        AFFILIATION CLASSIFICATION      USE_CASE  ORGANIZATION  STATUS  \\\n",
       "0       Independent          C1000    ProductDev   Association       1   \n",
       "1       Independent          C2000  Preservation  Co-operative       1   \n",
       "2  CompanySponsored          C3000    ProductDev   Association       1   \n",
       "3  CompanySponsored          C2000  Preservation         Trust       1   \n",
       "4       Independent          C1000     Heathcare         Trust       1   \n",
       "\n",
       "      INCOME_AMT SPECIAL_CONSIDERATIONS  ASK_AMT  IS_SUCCESSFUL  \n",
       "0              0                      N     5000              1  \n",
       "1         1-9999                      N   108590              1  \n",
       "2              0                      N     5000              0  \n",
       "3    10000-24999                      N     6692              1  \n",
       "4  100000-499999                      N   142590              1  "
      ]
     },
     "execution_count": 1,
     "metadata": {},
     "output_type": "execute_result"
    }
   ],
   "source": [
    "# Import our dependencies\n",
    "from sklearn.model_selection import train_test_split\n",
    "from sklearn.preprocessing import StandardScaler\n",
    "import pandas as pd\n",
    "import tensorflow as tf\n",
    "\n",
    "#  Import and read the charity_data.csv.\n",
    "import pandas as pd \n",
    "application_df = pd.read_csv(\"https://static.bc-edx.com/data/dla-1-2/m21/lms/starter/charity_data.csv\")\n",
    "application_df.head()"
   ]
  },
  {
   "cell_type": "code",
   "execution_count": 2,
   "metadata": {},
   "outputs": [
    {
     "data": {
      "text/html": [
       "<div>\n",
       "<style scoped>\n",
       "    .dataframe tbody tr th:only-of-type {\n",
       "        vertical-align: middle;\n",
       "    }\n",
       "\n",
       "    .dataframe tbody tr th {\n",
       "        vertical-align: top;\n",
       "    }\n",
       "\n",
       "    .dataframe thead th {\n",
       "        text-align: right;\n",
       "    }\n",
       "</style>\n",
       "<table border=\"1\" class=\"dataframe\">\n",
       "  <thead>\n",
       "    <tr style=\"text-align: right;\">\n",
       "      <th></th>\n",
       "      <th>APPLICATION_TYPE</th>\n",
       "      <th>AFFILIATION</th>\n",
       "      <th>CLASSIFICATION</th>\n",
       "      <th>USE_CASE</th>\n",
       "      <th>ORGANIZATION</th>\n",
       "      <th>STATUS</th>\n",
       "      <th>INCOME_AMT</th>\n",
       "      <th>SPECIAL_CONSIDERATIONS</th>\n",
       "      <th>ASK_AMT</th>\n",
       "      <th>IS_SUCCESSFUL</th>\n",
       "    </tr>\n",
       "  </thead>\n",
       "  <tbody>\n",
       "    <tr>\n",
       "      <th>0</th>\n",
       "      <td>T10</td>\n",
       "      <td>Independent</td>\n",
       "      <td>C1000</td>\n",
       "      <td>ProductDev</td>\n",
       "      <td>Association</td>\n",
       "      <td>1</td>\n",
       "      <td>0</td>\n",
       "      <td>N</td>\n",
       "      <td>5000</td>\n",
       "      <td>1</td>\n",
       "    </tr>\n",
       "    <tr>\n",
       "      <th>1</th>\n",
       "      <td>T3</td>\n",
       "      <td>Independent</td>\n",
       "      <td>C2000</td>\n",
       "      <td>Preservation</td>\n",
       "      <td>Co-operative</td>\n",
       "      <td>1</td>\n",
       "      <td>1-9999</td>\n",
       "      <td>N</td>\n",
       "      <td>108590</td>\n",
       "      <td>1</td>\n",
       "    </tr>\n",
       "    <tr>\n",
       "      <th>2</th>\n",
       "      <td>T5</td>\n",
       "      <td>CompanySponsored</td>\n",
       "      <td>C3000</td>\n",
       "      <td>ProductDev</td>\n",
       "      <td>Association</td>\n",
       "      <td>1</td>\n",
       "      <td>0</td>\n",
       "      <td>N</td>\n",
       "      <td>5000</td>\n",
       "      <td>0</td>\n",
       "    </tr>\n",
       "    <tr>\n",
       "      <th>3</th>\n",
       "      <td>T3</td>\n",
       "      <td>CompanySponsored</td>\n",
       "      <td>C2000</td>\n",
       "      <td>Preservation</td>\n",
       "      <td>Trust</td>\n",
       "      <td>1</td>\n",
       "      <td>10000-24999</td>\n",
       "      <td>N</td>\n",
       "      <td>6692</td>\n",
       "      <td>1</td>\n",
       "    </tr>\n",
       "    <tr>\n",
       "      <th>4</th>\n",
       "      <td>T3</td>\n",
       "      <td>Independent</td>\n",
       "      <td>C1000</td>\n",
       "      <td>Heathcare</td>\n",
       "      <td>Trust</td>\n",
       "      <td>1</td>\n",
       "      <td>100000-499999</td>\n",
       "      <td>N</td>\n",
       "      <td>142590</td>\n",
       "      <td>1</td>\n",
       "    </tr>\n",
       "  </tbody>\n",
       "</table>\n",
       "</div>"
      ],
      "text/plain": [
       "  APPLICATION_TYPE       AFFILIATION CLASSIFICATION      USE_CASE  \\\n",
       "0              T10       Independent          C1000    ProductDev   \n",
       "1               T3       Independent          C2000  Preservation   \n",
       "2               T5  CompanySponsored          C3000    ProductDev   \n",
       "3               T3  CompanySponsored          C2000  Preservation   \n",
       "4               T3       Independent          C1000     Heathcare   \n",
       "\n",
       "   ORGANIZATION  STATUS     INCOME_AMT SPECIAL_CONSIDERATIONS  ASK_AMT  \\\n",
       "0   Association       1              0                      N     5000   \n",
       "1  Co-operative       1         1-9999                      N   108590   \n",
       "2   Association       1              0                      N     5000   \n",
       "3         Trust       1    10000-24999                      N     6692   \n",
       "4         Trust       1  100000-499999                      N   142590   \n",
       "\n",
       "   IS_SUCCESSFUL  \n",
       "0              1  \n",
       "1              1  \n",
       "2              0  \n",
       "3              1  \n",
       "4              1  "
      ]
     },
     "execution_count": 2,
     "metadata": {},
     "output_type": "execute_result"
    }
   ],
   "source": [
    "# Drop the non-beneficial ID columns, 'EIN' and 'NAME'.\n",
    "application_df.drop(columns=['EIN', 'NAME'], inplace=True)\n",
    "application_df.head()"
   ]
  },
  {
   "cell_type": "code",
   "execution_count": 3,
   "metadata": {},
   "outputs": [
    {
     "name": "stdout",
     "output_type": "stream",
     "text": [
      "APPLICATION_TYPE            17\n",
      "AFFILIATION                  6\n",
      "CLASSIFICATION              71\n",
      "USE_CASE                     5\n",
      "ORGANIZATION                 4\n",
      "STATUS                       2\n",
      "INCOME_AMT                   9\n",
      "SPECIAL_CONSIDERATIONS       2\n",
      "ASK_AMT                   8747\n",
      "IS_SUCCESSFUL                2\n",
      "dtype: int64\n"
     ]
    }
   ],
   "source": [
    "# Determine the number of unique values in each column.\n",
    "count=application_df.nunique()\n",
    "print(count)"
   ]
  },
  {
   "cell_type": "code",
   "execution_count": 4,
   "metadata": {},
   "outputs": [
    {
     "name": "stdout",
     "output_type": "stream",
     "text": [
      "T3     27037\n",
      "T4      1542\n",
      "T6      1216\n",
      "T5      1173\n",
      "T19     1065\n",
      "T8       737\n",
      "T7       725\n",
      "T10      528\n",
      "T9       156\n",
      "T13       66\n",
      "T12       27\n",
      "T2        16\n",
      "T25        3\n",
      "T14        3\n",
      "T29        2\n",
      "T15        2\n",
      "T17        1\n",
      "Name: APPLICATION_TYPE, dtype: int64\n"
     ]
    }
   ],
   "source": [
    "# Look at APPLICATION_TYPE value counts for binnig\n",
    "print(application_df.APPLICATION_TYPE.value_counts())"
   ]
  },
  {
   "cell_type": "code",
   "execution_count": 1,
   "metadata": {},
   "outputs": [
    {
     "ename": "NameError",
     "evalue": "name 'application_df' is not defined",
     "output_type": "error",
     "traceback": [
      "\u001b[1;31m---------------------------------------------------------------------------\u001b[0m",
      "\u001b[1;31mNameError\u001b[0m                                 Traceback (most recent call last)",
      "Cell \u001b[1;32mIn[1], line 7\u001b[0m\n\u001b[0;32m      5\u001b[0m \u001b[38;5;66;03m# Replace in dataframe\u001b[39;00m\n\u001b[0;32m      6\u001b[0m \u001b[38;5;28;01mfor\u001b[39;00m app \u001b[38;5;129;01min\u001b[39;00m application_types_to_replace:\n\u001b[1;32m----> 7\u001b[0m     application_df[\u001b[38;5;124m'\u001b[39m\u001b[38;5;124mAPPLICATION_TYPE\u001b[39m\u001b[38;5;124m'\u001b[39m] \u001b[38;5;241m=\u001b[39m \u001b[43mapplication_df\u001b[49m[\u001b[38;5;124m'\u001b[39m\u001b[38;5;124mAPPLICATION_TYPE\u001b[39m\u001b[38;5;124m'\u001b[39m]\u001b[38;5;241m.\u001b[39mreplace(app,\u001b[38;5;124m\"\u001b[39m\u001b[38;5;124mOther\u001b[39m\u001b[38;5;124m\"\u001b[39m)\n\u001b[0;32m      9\u001b[0m \u001b[38;5;66;03m# Check to make sure binning was successful\u001b[39;00m\n\u001b[0;32m     10\u001b[0m application_df[\u001b[38;5;124m'\u001b[39m\u001b[38;5;124mAPPLICATION_TYPE\u001b[39m\u001b[38;5;124m'\u001b[39m]\u001b[38;5;241m.\u001b[39mvalue_counts()\n",
      "\u001b[1;31mNameError\u001b[0m: name 'application_df' is not defined"
     ]
    }
   ],
   "source": [
    "# Choose a cutoff value and create a list of application types to be replaced\n",
    "# use the variable name `application_types_to_replace`\n",
    "application_types_to_replace=[\"T9\",\"T13\",\"T12\",\"T2\",\"T25\",\"T14\",\"T29\",\"T15\",\"T17\"]\n",
    "\n",
    "# Replace in dataframe\n",
    "for app in application_types_to_replace:\n",
    "    application_df['APPLICATION_TYPE'] = application_df['APPLICATION_TYPE'].replace(app,\"Other\")\n",
    "\n",
    "# Check to make sure binning was successful\n",
    "application_df['APPLICATION_TYPE'].value_counts()"
   ]
  },
  {
   "cell_type": "code",
   "execution_count": 6,
   "metadata": {},
   "outputs": [
    {
     "name": "stdout",
     "output_type": "stream",
     "text": [
      "C1000    17326\n",
      "C2000     6074\n",
      "C1200     4837\n",
      "C3000     1918\n",
      "C2100     1883\n",
      "         ...  \n",
      "C4120        1\n",
      "C8210        1\n",
      "C2561        1\n",
      "C4500        1\n",
      "C2150        1\n",
      "Name: CLASSIFICATION, Length: 71, dtype: int64\n"
     ]
    }
   ],
   "source": [
    "# Look at CLASSIFICATION value counts for binning\n",
    "print(application_df.CLASSIFICATION.value_counts())"
   ]
  },
  {
   "cell_type": "code",
   "execution_count": 7,
   "metadata": {},
   "outputs": [
    {
     "name": "stdout",
     "output_type": "stream",
     "text": [
      "C1000    17326\n",
      "C2000     6074\n",
      "C1200     4837\n",
      "C3000     1918\n",
      "C2100     1883\n",
      "C7000      777\n",
      "C1700      287\n",
      "C4000      194\n",
      "C5000      116\n",
      "C1270      114\n",
      "C2700      104\n",
      "C2800       95\n",
      "C7100       75\n",
      "C1300       58\n",
      "C1280       50\n",
      "C1230       36\n",
      "C1400       34\n",
      "C7200       32\n",
      "C2300       32\n",
      "C1240       30\n",
      "C8000       20\n",
      "C7120       18\n",
      "C1500       16\n",
      "C1800       15\n",
      "C6000       15\n",
      "C1250       14\n",
      "C8200       11\n",
      "C1238       10\n",
      "C1278       10\n",
      "C1235        9\n",
      "C1237        9\n",
      "C7210        7\n",
      "C2400        6\n",
      "C1720        6\n",
      "C4100        6\n",
      "C1257        5\n",
      "C1600        5\n",
      "C1260        3\n",
      "C2710        3\n",
      "C0           3\n",
      "C3200        2\n",
      "C1234        2\n",
      "C1246        2\n",
      "C1267        2\n",
      "C1256        2\n",
      "Name: CLASSIFICATION, dtype: int64\n"
     ]
    }
   ],
   "source": [
    "# You may find it helpful to look at CLASSIFICATION value counts >1\n",
    "cls_count=application_df['CLASSIFICATION'].value_counts().loc[lambda x : x>1] \n",
    "print(cls_count)"
   ]
  },
  {
   "cell_type": "code",
   "execution_count": 8,
   "metadata": {},
   "outputs": [
    {
     "data": {
      "text/plain": [
       "C1000    17326\n",
       "C2000     6074\n",
       "C1200     4837\n",
       "Other     2261\n",
       "C3000     1918\n",
       "C2100     1883\n",
       "Name: CLASSIFICATION, dtype: int64"
      ]
     },
     "execution_count": 8,
     "metadata": {},
     "output_type": "execute_result"
    }
   ],
   "source": [
    "# Choose a cutoff value and create a list of classifications to be replaced\n",
    "# use the variable name `classifications_to_replace`\n",
    "classifications_to_replace = [\"C700\",\"C1700\",\"C4000\",\"C5000\",\"C1270\",\"C2700\",\"C2800\",\"C7100\",\"C1300\", \"C1280\", \"C1230\",\"C1400\",\"C7200\",\"C2300\",\"C1240\",\"C8000\",\"C7120\",\"C1500\",\"C1800\", \"C6000\",\"C1250\",\"C8200\",\"C1238\",\"C1278\",\"C1235\",\"C1237\",\"C7210\",\"C2400\",\"C1720\",\"C4100\",\"C1257\",\"C1600\",\"C1260\",\"C2710\",\"C0\",\"C3200\", \"C1234\", \"C1246\", \"C1267\", \"C1256\", \"C1370\",\"C1236\", \"C2190\", \"C4200\", \"C5200\", \"C6100\", \"C2600\", \"C1248\", \"C1580\", \"C1820\", \"C1900\", \"C2570\", \"C1283\", \"C3700\", \"C2500\", \"C1570\", \"C2380\", \"C1732\", \"C1728\", \"C2170\", \"C4120\", \"C8210\", \"C4500\", \"C1245\", \"C2561\", \"C2150\", \"C7000\"]\n",
    "\n",
    "\n",
    "# Replace in dataframe\n",
    "for cls in classifications_to_replace:\n",
    "    application_df['CLASSIFICATION'] = application_df['CLASSIFICATION'].replace(cls,\"Other\")\n",
    "    \n",
    "# Check to make sure binning was successful\n",
    "application_df['CLASSIFICATION'].value_counts()\n",
    "\n",
    "# Replace in dataframe\n",
    "for cls in classifications_to_replace:\n",
    "    application_df['CLASSIFICATION'] = application_df['CLASSIFICATION'].replace(cls,\"Other\")\n",
    "    \n",
    "# Check to make sure binning was successful\n",
    "application_df['CLASSIFICATION'].value_counts()"
   ]
  },
  {
   "cell_type": "code",
   "execution_count": 9,
   "metadata": {},
   "outputs": [],
   "source": [
    "# Convert categorical data to numeric with `pd.get_dummies`\n",
    "numeric_application = pd.get_dummies(application_df[\"APPLICATION_TYPE\"])\n",
    "\n",
    "numeric_classification = pd.get_dummies(application_df[\"CLASSIFICATION\"])\n"
   ]
  },
  {
   "cell_type": "code",
   "execution_count": 10,
   "metadata": {},
   "outputs": [],
   "source": [
    "# Split our preprocessed data into our features and target arrays\n",
    "\n",
    "target = application_df[\"IS_SUCCESSFUL\"].values\n",
    "features = pd.concat([numeric_application, numeric_classification], axis=1)\n",
    "\n",
    "X = features\n",
    "y = target\n",
    "\n",
    "# Split the preprocessed data into a training and testing dataset\n",
    "from sklearn.model_selection import train_test_split\n",
    "# X_train, X_test, y_train, y_test = train_test_split(X, y, random_state=42)\n",
    "X_train, X_test, y_train, y_test = train_test_split(X, y, test_size=0.2, random_state=42)"
   ]
  },
  {
   "cell_type": "code",
   "execution_count": 11,
   "metadata": {},
   "outputs": [],
   "source": [
    "# Create a StandardScaler instances\n",
    "scaler = StandardScaler()\n",
    "\n",
    "# Fit the StandardScaler\n",
    "X_scaler = scaler.fit(X_train)\n",
    "\n",
    "# Scale the data\n",
    "X_train_scaled = X_scaler.transform(X_train)\n",
    "X_test_scaled = X_scaler.transform(X_test)"
   ]
  },
  {
   "cell_type": "code",
   "execution_count": 26,
   "metadata": {},
   "outputs": [
    {
     "data": {
      "text/plain": [
       "15"
      ]
     },
     "execution_count": 26,
     "metadata": {},
     "output_type": "execute_result"
    }
   ],
   "source": [
    "X_train.shape[1]"
   ]
  },
  {
   "cell_type": "markdown",
   "metadata": {},
   "source": [
    "## Compile, Train and Evaluate the Model"
   ]
  },
  {
   "cell_type": "code",
   "execution_count": 27,
   "metadata": {},
   "outputs": [
    {
     "name": "stdout",
     "output_type": "stream",
     "text": [
      "Model: \"sequential_1\"\n",
      "_________________________________________________________________\n",
      " Layer (type)                Output Shape              Param #   \n",
      "=================================================================\n",
      " dense_3 (Dense)             (None, 8)                 128       \n",
      "                                                                 \n",
      " dense_4 (Dense)             (None, 5)                 45        \n",
      "                                                                 \n",
      " dense_5 (Dense)             (None, 1)                 6         \n",
      "                                                                 \n",
      "=================================================================\n",
      "Total params: 179 (716.00 Byte)\n",
      "Trainable params: 179 (716.00 Byte)\n",
      "Non-trainable params: 0 (0.00 Byte)\n",
      "_________________________________________________________________\n"
     ]
    }
   ],
   "source": [
    "# Define the model - deep neural net, i.e., the number of input features and hidden nodes for each layer.\n",
    "number_input_features = X_train.shape[1]\n",
    "hidden_nodes_layer1 =  8\n",
    "hidden_nodes_layer2 = 5\n",
    "\n",
    "nn = tf.keras.models.Sequential()\n",
    "\n",
    "# First hidden layer\n",
    "nn.add(\n",
    "    tf.keras.layers.Dense(units=hidden_nodes_layer1, input_dim=number_input_features, activation=\"relu\")\n",
    ")\n",
    "# Second hidden layer\n",
    "nn.add(tf.keras.layers.Dense(units=hidden_nodes_layer2, activation=\"relu\"))\n",
    "\n",
    "# Output layer\n",
    "nn.add(tf.keras.layers.Dense(units=1, activation=\"sigmoid\"))\n",
    "\n",
    "# Check the structure of the model\n",
    "nn.summary()"
   ]
  },
  {
   "cell_type": "code",
   "execution_count": 28,
   "metadata": {},
   "outputs": [],
   "source": [
    "# Compile the model\n",
    "nn.compile(loss=\"binary_crossentropy\", optimizer=\"adam\", metrics=[\"accuracy\"])"
   ]
  },
  {
   "cell_type": "code",
   "execution_count": 29,
   "metadata": {},
   "outputs": [
    {
     "data": {
      "text/plain": [
       "(27439, 15)"
      ]
     },
     "execution_count": 29,
     "metadata": {},
     "output_type": "execute_result"
    }
   ],
   "source": [
    "X_train_scaled.shape"
   ]
  },
  {
   "cell_type": "code",
   "execution_count": 30,
   "metadata": {},
   "outputs": [
    {
     "data": {
      "text/plain": [
       "(27439,)"
      ]
     },
     "execution_count": 30,
     "metadata": {},
     "output_type": "execute_result"
    }
   ],
   "source": [
    "y_train.shape"
   ]
  },
  {
   "cell_type": "code",
   "execution_count": 31,
   "metadata": {},
   "outputs": [
    {
     "name": "stdout",
     "output_type": "stream",
     "text": [
      "Epoch 1/100\n",
      "858/858 [==============================] - 7s 5ms/step - loss: 0.6676 - accuracy: 0.6020\n",
      "Epoch 2/100\n",
      "858/858 [==============================] - 4s 5ms/step - loss: 0.6476 - accuracy: 0.6137\n",
      "Epoch 3/100\n",
      "858/858 [==============================] - 5s 5ms/step - loss: 0.6441 - accuracy: 0.6139\n",
      "Epoch 4/100\n",
      "858/858 [==============================] - 5s 6ms/step - loss: 0.6434 - accuracy: 0.6155\n",
      "Epoch 5/100\n",
      "858/858 [==============================] - 5s 6ms/step - loss: 0.6431 - accuracy: 0.6124\n",
      "Epoch 6/100\n",
      "858/858 [==============================] - 5s 5ms/step - loss: 0.6429 - accuracy: 0.6138\n",
      "Epoch 7/100\n",
      "858/858 [==============================] - 5s 6ms/step - loss: 0.6427 - accuracy: 0.6125\n",
      "Epoch 8/100\n",
      "858/858 [==============================] - 5s 5ms/step - loss: 0.6426 - accuracy: 0.6124\n",
      "Epoch 9/100\n",
      "858/858 [==============================] - 4s 5ms/step - loss: 0.6425 - accuracy: 0.6144\n",
      "Epoch 10/100\n",
      "858/858 [==============================] - 4s 5ms/step - loss: 0.6425 - accuracy: 0.6141\n",
      "Epoch 11/100\n",
      "858/858 [==============================] - 4s 5ms/step - loss: 0.6423 - accuracy: 0.6139\n",
      "Epoch 12/100\n",
      "858/858 [==============================] - 4s 5ms/step - loss: 0.6424 - accuracy: 0.6139\n",
      "Epoch 13/100\n",
      "858/858 [==============================] - 5s 5ms/step - loss: 0.6423 - accuracy: 0.6132\n",
      "Epoch 14/100\n",
      "858/858 [==============================] - 4s 5ms/step - loss: 0.6423 - accuracy: 0.6138\n",
      "Epoch 15/100\n",
      "858/858 [==============================] - 4s 5ms/step - loss: 0.6422 - accuracy: 0.6145\n",
      "Epoch 16/100\n",
      "858/858 [==============================] - 4s 5ms/step - loss: 0.6423 - accuracy: 0.6118\n",
      "Epoch 17/100\n",
      "858/858 [==============================] - 4s 5ms/step - loss: 0.6421 - accuracy: 0.6133\n",
      "Epoch 18/100\n",
      "858/858 [==============================] - 4s 5ms/step - loss: 0.6422 - accuracy: 0.6136\n",
      "Epoch 19/100\n",
      "858/858 [==============================] - 4s 5ms/step - loss: 0.6422 - accuracy: 0.6162\n",
      "Epoch 20/100\n",
      "858/858 [==============================] - 4s 5ms/step - loss: 0.6422 - accuracy: 0.6144\n",
      "Epoch 21/100\n",
      "858/858 [==============================] - 5s 5ms/step - loss: 0.6422 - accuracy: 0.6137\n",
      "Epoch 22/100\n",
      "858/858 [==============================] - 4s 5ms/step - loss: 0.6422 - accuracy: 0.6120\n",
      "Epoch 23/100\n",
      "858/858 [==============================] - 4s 5ms/step - loss: 0.6422 - accuracy: 0.6143\n",
      "Epoch 24/100\n",
      "858/858 [==============================] - 4s 5ms/step - loss: 0.6421 - accuracy: 0.6127\n",
      "Epoch 25/100\n",
      "858/858 [==============================] - 4s 5ms/step - loss: 0.6420 - accuracy: 0.6131\n",
      "Epoch 26/100\n",
      "858/858 [==============================] - 4s 5ms/step - loss: 0.6420 - accuracy: 0.6142\n",
      "Epoch 27/100\n",
      "858/858 [==============================] - 4s 5ms/step - loss: 0.6421 - accuracy: 0.6153\n",
      "Epoch 28/100\n",
      "858/858 [==============================] - 4s 5ms/step - loss: 0.6419 - accuracy: 0.6138\n",
      "Epoch 29/100\n",
      "858/858 [==============================] - 4s 4ms/step - loss: 0.6420 - accuracy: 0.6142\n",
      "Epoch 30/100\n",
      "858/858 [==============================] - 4s 4ms/step - loss: 0.6420 - accuracy: 0.6136\n",
      "Epoch 31/100\n",
      "858/858 [==============================] - 4s 4ms/step - loss: 0.6421 - accuracy: 0.6147\n",
      "Epoch 32/100\n",
      "858/858 [==============================] - 4s 4ms/step - loss: 0.6420 - accuracy: 0.6141\n",
      "Epoch 33/100\n",
      "858/858 [==============================] - 4s 5ms/step - loss: 0.6422 - accuracy: 0.6139\n",
      "Epoch 34/100\n",
      "858/858 [==============================] - 4s 4ms/step - loss: 0.6421 - accuracy: 0.6144\n",
      "Epoch 35/100\n",
      "858/858 [==============================] - 4s 4ms/step - loss: 0.6419 - accuracy: 0.6130\n",
      "Epoch 36/100\n",
      "858/858 [==============================] - 4s 5ms/step - loss: 0.6420 - accuracy: 0.6133\n",
      "Epoch 37/100\n",
      "858/858 [==============================] - 4s 5ms/step - loss: 0.6420 - accuracy: 0.6130\n",
      "Epoch 38/100\n",
      "858/858 [==============================] - 4s 5ms/step - loss: 0.6420 - accuracy: 0.6137\n",
      "Epoch 39/100\n",
      "858/858 [==============================] - 4s 5ms/step - loss: 0.6421 - accuracy: 0.6138\n",
      "Epoch 40/100\n",
      "858/858 [==============================] - 4s 5ms/step - loss: 0.6420 - accuracy: 0.6144\n",
      "Epoch 41/100\n",
      "858/858 [==============================] - 4s 5ms/step - loss: 0.6419 - accuracy: 0.6138\n",
      "Epoch 42/100\n",
      "858/858 [==============================] - 4s 5ms/step - loss: 0.6420 - accuracy: 0.6131\n",
      "Epoch 43/100\n",
      "858/858 [==============================] - 4s 5ms/step - loss: 0.6421 - accuracy: 0.6130\n",
      "Epoch 44/100\n",
      "858/858 [==============================] - 4s 4ms/step - loss: 0.6419 - accuracy: 0.6143\n",
      "Epoch 45/100\n",
      "858/858 [==============================] - 4s 4ms/step - loss: 0.6420 - accuracy: 0.6149\n",
      "Epoch 46/100\n",
      "858/858 [==============================] - 4s 4ms/step - loss: 0.6420 - accuracy: 0.6142\n",
      "Epoch 47/100\n",
      "858/858 [==============================] - 4s 4ms/step - loss: 0.6421 - accuracy: 0.6139\n",
      "Epoch 48/100\n",
      "858/858 [==============================] - 4s 4ms/step - loss: 0.6419 - accuracy: 0.6148\n",
      "Epoch 49/100\n",
      "858/858 [==============================] - 4s 4ms/step - loss: 0.6420 - accuracy: 0.6141\n",
      "Epoch 50/100\n",
      "858/858 [==============================] - 4s 4ms/step - loss: 0.6418 - accuracy: 0.6147\n",
      "Epoch 51/100\n",
      "858/858 [==============================] - 4s 5ms/step - loss: 0.6419 - accuracy: 0.6139\n",
      "Epoch 52/100\n",
      "858/858 [==============================] - 4s 5ms/step - loss: 0.6419 - accuracy: 0.6149\n",
      "Epoch 53/100\n",
      "858/858 [==============================] - 4s 4ms/step - loss: 0.6419 - accuracy: 0.6123\n",
      "Epoch 54/100\n",
      "858/858 [==============================] - 4s 4ms/step - loss: 0.6418 - accuracy: 0.6135\n",
      "Epoch 55/100\n",
      "858/858 [==============================] - 4s 4ms/step - loss: 0.6419 - accuracy: 0.6141\n",
      "Epoch 56/100\n",
      "858/858 [==============================] - 4s 5ms/step - loss: 0.6418 - accuracy: 0.6135\n",
      "Epoch 57/100\n",
      "858/858 [==============================] - 4s 4ms/step - loss: 0.6418 - accuracy: 0.6138\n",
      "Epoch 58/100\n",
      "858/858 [==============================] - 4s 4ms/step - loss: 0.6418 - accuracy: 0.6165\n",
      "Epoch 59/100\n",
      "858/858 [==============================] - 4s 4ms/step - loss: 0.6417 - accuracy: 0.6149\n",
      "Epoch 60/100\n",
      "858/858 [==============================] - 4s 5ms/step - loss: 0.6419 - accuracy: 0.6138\n",
      "Epoch 61/100\n",
      "858/858 [==============================] - 4s 4ms/step - loss: 0.6418 - accuracy: 0.6141\n",
      "Epoch 62/100\n",
      "858/858 [==============================] - 4s 4ms/step - loss: 0.6418 - accuracy: 0.6145\n",
      "Epoch 63/100\n",
      "858/858 [==============================] - 4s 4ms/step - loss: 0.6419 - accuracy: 0.6128\n",
      "Epoch 64/100\n",
      "858/858 [==============================] - 4s 4ms/step - loss: 0.6419 - accuracy: 0.6130\n",
      "Epoch 65/100\n",
      "858/858 [==============================] - 4s 5ms/step - loss: 0.6418 - accuracy: 0.6145\n",
      "Epoch 66/100\n",
      "858/858 [==============================] - 4s 4ms/step - loss: 0.6417 - accuracy: 0.6144\n",
      "Epoch 67/100\n",
      "858/858 [==============================] - 4s 5ms/step - loss: 0.6419 - accuracy: 0.6133\n",
      "Epoch 68/100\n",
      "858/858 [==============================] - 4s 4ms/step - loss: 0.6417 - accuracy: 0.6136\n",
      "Epoch 69/100\n",
      "858/858 [==============================] - 4s 4ms/step - loss: 0.6418 - accuracy: 0.6122\n",
      "Epoch 70/100\n",
      "858/858 [==============================] - 4s 5ms/step - loss: 0.6419 - accuracy: 0.6110\n",
      "Epoch 71/100\n",
      "858/858 [==============================] - 4s 5ms/step - loss: 0.6418 - accuracy: 0.6153\n",
      "Epoch 72/100\n",
      "858/858 [==============================] - 4s 5ms/step - loss: 0.6418 - accuracy: 0.6146\n",
      "Epoch 73/100\n",
      "858/858 [==============================] - 4s 5ms/step - loss: 0.6417 - accuracy: 0.6153\n",
      "Epoch 74/100\n",
      "858/858 [==============================] - 4s 5ms/step - loss: 0.6417 - accuracy: 0.6154\n",
      "Epoch 75/100\n",
      "858/858 [==============================] - 4s 5ms/step - loss: 0.6418 - accuracy: 0.6149\n",
      "Epoch 76/100\n",
      "858/858 [==============================] - 4s 5ms/step - loss: 0.6416 - accuracy: 0.6139\n",
      "Epoch 77/100\n",
      "858/858 [==============================] - 4s 5ms/step - loss: 0.6417 - accuracy: 0.6136\n",
      "Epoch 78/100\n",
      "858/858 [==============================] - 4s 5ms/step - loss: 0.6416 - accuracy: 0.6141\n",
      "Epoch 79/100\n",
      "858/858 [==============================] - 4s 5ms/step - loss: 0.6418 - accuracy: 0.6160\n",
      "Epoch 80/100\n",
      "858/858 [==============================] - 4s 5ms/step - loss: 0.6416 - accuracy: 0.6161\n",
      "Epoch 81/100\n",
      "858/858 [==============================] - 4s 4ms/step - loss: 0.6417 - accuracy: 0.6154\n",
      "Epoch 82/100\n",
      "858/858 [==============================] - 4s 4ms/step - loss: 0.6417 - accuracy: 0.6143\n",
      "Epoch 83/100\n",
      "858/858 [==============================] - 4s 5ms/step - loss: 0.6416 - accuracy: 0.6137\n",
      "Epoch 84/100\n",
      "858/858 [==============================] - 4s 5ms/step - loss: 0.6417 - accuracy: 0.6139\n",
      "Epoch 85/100\n",
      "858/858 [==============================] - 4s 5ms/step - loss: 0.6416 - accuracy: 0.6132\n",
      "Epoch 86/100\n",
      "858/858 [==============================] - 4s 5ms/step - loss: 0.6415 - accuracy: 0.6139\n",
      "Epoch 87/100\n",
      "858/858 [==============================] - 4s 5ms/step - loss: 0.6417 - accuracy: 0.6132\n",
      "Epoch 88/100\n",
      "858/858 [==============================] - 4s 5ms/step - loss: 0.6416 - accuracy: 0.6166\n",
      "Epoch 89/100\n",
      "858/858 [==============================] - 4s 5ms/step - loss: 0.6418 - accuracy: 0.6129\n",
      "Epoch 90/100\n",
      "858/858 [==============================] - 4s 5ms/step - loss: 0.6417 - accuracy: 0.6138\n",
      "Epoch 91/100\n",
      "858/858 [==============================] - 4s 5ms/step - loss: 0.6417 - accuracy: 0.6134\n",
      "Epoch 92/100\n",
      "858/858 [==============================] - 4s 5ms/step - loss: 0.6416 - accuracy: 0.6130\n",
      "Epoch 93/100\n",
      "858/858 [==============================] - 4s 5ms/step - loss: 0.6417 - accuracy: 0.6147\n",
      "Epoch 94/100\n",
      "858/858 [==============================] - 4s 5ms/step - loss: 0.6416 - accuracy: 0.6153\n",
      "Epoch 95/100\n",
      "858/858 [==============================] - 5s 6ms/step - loss: 0.6416 - accuracy: 0.6128\n",
      "Epoch 96/100\n",
      "858/858 [==============================] - 5s 5ms/step - loss: 0.6415 - accuracy: 0.6148\n",
      "Epoch 97/100\n",
      "858/858 [==============================] - 4s 5ms/step - loss: 0.6417 - accuracy: 0.6139\n",
      "Epoch 98/100\n",
      "858/858 [==============================] - 4s 5ms/step - loss: 0.6415 - accuracy: 0.6157\n",
      "Epoch 99/100\n",
      "858/858 [==============================] - 4s 5ms/step - loss: 0.6416 - accuracy: 0.6127\n",
      "Epoch 100/100\n",
      "858/858 [==============================] - 4s 5ms/step - loss: 0.6416 - accuracy: 0.6144\n"
     ]
    }
   ],
   "source": [
    "# Train the model\n",
    "fit_model = nn.fit(X_train_scaled,y_train,epochs=100)"
   ]
  },
  {
   "cell_type": "code",
   "execution_count": 32,
   "metadata": {},
   "outputs": [
    {
     "name": "stdout",
     "output_type": "stream",
     "text": [
      "215/215 - 1s - loss: 0.6490 - accuracy: 0.6127 - 1s/epoch - 6ms/step\n",
      "Loss: 0.648998498916626, Accuracy: 0.6126822233200073\n"
     ]
    }
   ],
   "source": [
    "# Evaluate the model using the test data\n",
    "model_loss, model_accuracy = nn.evaluate(X_test_scaled,y_test,verbose=2)\n",
    "print(f\"Loss: {model_loss}, Accuracy: {model_accuracy}\")"
   ]
  },
  {
   "cell_type": "code",
   "execution_count": 39,
   "metadata": {},
   "outputs": [
    {
     "name": "stderr",
     "output_type": "stream",
     "text": [
      "C:\\Users\\hajar\\AppData\\Local\\Temp\\ipykernel_6368\\3759715061.py:5: UserWarning: You are saving your model as an HDF5 file via `model.save()`. This file format is considered legacy. We recommend using instead the native Keras format, e.g. `model.save('my_model.keras')`.\n",
      "  save_model(fit_model, model_file)\n"
     ]
    },
    {
     "ename": "AttributeError",
     "evalue": "'History' object has no attribute 'outputs'",
     "output_type": "error",
     "traceback": [
      "\u001b[1;31m---------------------------------------------------------------------------\u001b[0m",
      "\u001b[1;31mAttributeError\u001b[0m                            Traceback (most recent call last)",
      "Cell \u001b[1;32mIn[39], line 5\u001b[0m\n\u001b[0;32m      3\u001b[0m \u001b[38;5;66;03m# Assuming `fit_model` is your Keras or TensorFlow model\u001b[39;00m\n\u001b[0;32m      4\u001b[0m model_file \u001b[38;5;241m=\u001b[39m \u001b[38;5;124m\"\u001b[39m\u001b[38;5;124mmodel.h5\u001b[39m\u001b[38;5;124m\"\u001b[39m\n\u001b[1;32m----> 5\u001b[0m \u001b[43msave_model\u001b[49m\u001b[43m(\u001b[49m\u001b[43mfit_model\u001b[49m\u001b[43m,\u001b[49m\u001b[43m \u001b[49m\u001b[43mmodel_file\u001b[49m\u001b[43m)\u001b[49m\n",
      "File \u001b[1;32m~\\anaconda3\\envs\\bootcamp3\\lib\\site-packages\\keras\\src\\saving\\saving_api.py:167\u001b[0m, in \u001b[0;36msave_model\u001b[1;34m(model, filepath, overwrite, save_format, **kwargs)\u001b[0m\n\u001b[0;32m    164\u001b[0m     saving_lib\u001b[38;5;241m.\u001b[39msave_model(model, filepath)\n\u001b[0;32m    165\u001b[0m \u001b[38;5;28;01melse\u001b[39;00m:\n\u001b[0;32m    166\u001b[0m     \u001b[38;5;66;03m# Legacy case\u001b[39;00m\n\u001b[1;32m--> 167\u001b[0m     \u001b[38;5;28;01mreturn\u001b[39;00m legacy_sm_saving_lib\u001b[38;5;241m.\u001b[39msave_model(\n\u001b[0;32m    168\u001b[0m         model,\n\u001b[0;32m    169\u001b[0m         filepath,\n\u001b[0;32m    170\u001b[0m         overwrite\u001b[38;5;241m=\u001b[39moverwrite,\n\u001b[0;32m    171\u001b[0m         save_format\u001b[38;5;241m=\u001b[39msave_format,\n\u001b[0;32m    172\u001b[0m         \u001b[38;5;241m*\u001b[39m\u001b[38;5;241m*\u001b[39mkwargs,\n\u001b[0;32m    173\u001b[0m     )\n",
      "File \u001b[1;32m~\\anaconda3\\envs\\bootcamp3\\lib\\site-packages\\keras\\src\\utils\\traceback_utils.py:70\u001b[0m, in \u001b[0;36mfilter_traceback.<locals>.error_handler\u001b[1;34m(*args, **kwargs)\u001b[0m\n\u001b[0;32m     67\u001b[0m     filtered_tb \u001b[38;5;241m=\u001b[39m _process_traceback_frames(e\u001b[38;5;241m.\u001b[39m__traceback__)\n\u001b[0;32m     68\u001b[0m     \u001b[38;5;66;03m# To get the full stack trace, call:\u001b[39;00m\n\u001b[0;32m     69\u001b[0m     \u001b[38;5;66;03m# `tf.debugging.disable_traceback_filtering()`\u001b[39;00m\n\u001b[1;32m---> 70\u001b[0m     \u001b[38;5;28;01mraise\u001b[39;00m e\u001b[38;5;241m.\u001b[39mwith_traceback(filtered_tb) \u001b[38;5;28;01mfrom\u001b[39;00m \u001b[38;5;28;01mNone\u001b[39;00m\n\u001b[0;32m     71\u001b[0m \u001b[38;5;28;01mfinally\u001b[39;00m:\n\u001b[0;32m     72\u001b[0m     \u001b[38;5;28;01mdel\u001b[39;00m filtered_tb\n",
      "File \u001b[1;32m~\\anaconda3\\envs\\bootcamp3\\lib\\site-packages\\keras\\src\\saving\\legacy\\saving_utils.py:351\u001b[0m, in \u001b[0;36mtry_build_compiled_arguments\u001b[1;34m(model)\u001b[0m\n\u001b[0;32m    348\u001b[0m \u001b[38;5;28;01mdef\u001b[39;00m \u001b[38;5;21mtry_build_compiled_arguments\u001b[39m(model):\n\u001b[0;32m    349\u001b[0m     \u001b[38;5;28;01mif\u001b[39;00m (\n\u001b[0;32m    350\u001b[0m         \u001b[38;5;129;01mnot\u001b[39;00m version_utils\u001b[38;5;241m.\u001b[39mis_v1_layer_or_model(model)\n\u001b[1;32m--> 351\u001b[0m         \u001b[38;5;129;01mand\u001b[39;00m \u001b[43mmodel\u001b[49m\u001b[38;5;241;43m.\u001b[39;49m\u001b[43moutputs\u001b[49m \u001b[38;5;129;01mis\u001b[39;00m \u001b[38;5;129;01mnot\u001b[39;00m \u001b[38;5;28;01mNone\u001b[39;00m\n\u001b[0;32m    352\u001b[0m     ):\n\u001b[0;32m    353\u001b[0m         \u001b[38;5;28;01mtry\u001b[39;00m:\n\u001b[0;32m    354\u001b[0m             \u001b[38;5;28;01mif\u001b[39;00m \u001b[38;5;129;01mnot\u001b[39;00m model\u001b[38;5;241m.\u001b[39mcompiled_loss\u001b[38;5;241m.\u001b[39mbuilt:\n",
      "\u001b[1;31mAttributeError\u001b[0m: 'History' object has no attribute 'outputs'"
     ]
    }
   ],
   "source": [
    "import h5py\n",
    "# # Export our model to HDF5 file\n",
    "# hdf5_file = h5py.File('AlphabetSoupCharity.h5', 'w')\n",
    "\n",
    "# # Save your results to the HDF5 file\n",
    "# hdf5_file.create_dataset('results', data=fit_model)\n",
    "\n",
    "# # Close the HDF5 file\n",
    "# hdf5_file.close()\n",
    "\n"
   ]
  },
  {
   "cell_type": "code",
   "execution_count": null,
   "metadata": {},
   "outputs": [],
   "source": []
  }
 ],
 "metadata": {
  "kernelspec": {
   "display_name": "Python 3 (ipykernel)",
   "language": "python",
   "name": "python3"
  },
  "language_info": {
   "codemirror_mode": {
    "name": "ipython",
    "version": 3
   },
   "file_extension": ".py",
   "mimetype": "text/x-python",
   "name": "python",
   "nbconvert_exporter": "python",
   "pygments_lexer": "ipython3",
   "version": "3.10.11"
  },
  "vscode": {
   "interpreter": {
    "hash": "31f2aee4e71d21fbe5cf8b01ff0e069b9275f58929596ceb00d14d90e3e16cd6"
   }
  }
 },
 "nbformat": 4,
 "nbformat_minor": 4
}
